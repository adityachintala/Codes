{
 "cells": [
  {
   "cell_type": "code",
   "execution_count": 47,
   "metadata": {},
   "outputs": [
    {
     "name": "stdout",
     "output_type": "stream",
     "text": [
      "[[ 0.22107931 -1.31036975  0.10009939 -0.53222844]\n",
      " [-0.070519   -0.89991274  0.37456231  1.72301524]\n",
      " [ 1.9053153  -1.21688509 -1.26035881  1.48758425]]\n"
     ]
    }
   ],
   "source": [
    "import numpy as np\n",
    "import time\n",
    "import math\n",
    "a = np.random.randn(3,4)"
   ]
  },
  {
   "cell_type": "code",
   "execution_count": 51,
   "metadata": {},
   "outputs": [
    {
     "name": "stdout",
     "output_type": "stream",
     "text": [
      "[[ 0.28593813 -0.58271771  0.380115   -1.38718577]\n",
      " [-0.00566019 -0.1722607   0.65457791  0.86805791]\n",
      " [ 1.97017411 -0.48923304 -0.98034321  0.63262692]]\n",
      "[[-1.30385036]\n",
      " [ 1.34471493]\n",
      " [ 1.13322478]]\n"
     ]
    }
   ],
   "source": [
    "print(a)\n",
    "\n",
    "print(a.sum(axis=1, keepdims=True))"
   ]
  }
 ],
 "metadata": {
  "kernelspec": {
   "display_name": "Python 3.9.12 ('base')",
   "language": "python",
   "name": "python3"
  },
  "language_info": {
   "codemirror_mode": {
    "name": "ipython",
    "version": 3
   },
   "file_extension": ".py",
   "mimetype": "text/x-python",
   "name": "python",
   "nbconvert_exporter": "python",
   "pygments_lexer": "ipython3",
   "version": "3.9.12"
  },
  "orig_nbformat": 4,
  "vscode": {
   "interpreter": {
    "hash": "8891f3cfb547db503e78f25128202364d60f1c09259e140a1bd236c27b0b7a43"
   }
  }
 },
 "nbformat": 4,
 "nbformat_minor": 2
}
